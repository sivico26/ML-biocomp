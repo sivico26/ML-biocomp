{
 "cells": [
  {
   "cell_type": "markdown",
   "metadata": {},
   "source": [
    "# Problem 1\n",
    "\n",
    "Use the [ALS dataset](../lectures/data/ALS). In this problem you would examines the patterns, symmetries, associations and causality in a rare but devastating disease, amyotrophic lateral sclerosis (ALS). A major clinically relevant question in this biomedical study is: What patient phenotypes can be automatically and reliably identified and used to predict the change of the ALSFRS slope over time?. This problem aims to explore the data set by unsupervised learning.\n",
    "\n",
    "You must:\n",
    "* Load and prepare the data.\n",
    "* Perform summary and preliminary visualization.\n",
    "* Train a k-Means model on the data\n",
    "* Evaluating the model performance\n",
    "* Apply Hierarchical Clustering on three different linkages\n",
    "* Apply DBSCAN"
   ]
  },
  {
   "cell_type": "code",
   "execution_count": null,
   "metadata": {},
   "outputs": [],
   "source": []
  },
  {
   "cell_type": "code",
   "execution_count": null,
   "metadata": {},
   "outputs": [],
   "source": []
  },
  {
   "cell_type": "code",
   "execution_count": null,
   "metadata": {},
   "outputs": [],
   "source": []
  },
  {
   "cell_type": "code",
   "execution_count": null,
   "metadata": {},
   "outputs": [],
   "source": []
  },
  {
   "cell_type": "markdown",
   "metadata": {},
   "source": [
    "# Problem 2"
   ]
  },
  {
   "cell_type": "markdown",
   "metadata": {},
   "source": [
    "Use the [p4dataset2018.txt file](../lectures/data/p4dataset2018.txt). The data represented there is from the 1000 genomes project. Each of the 995 lines in the file represents an individual. The first three columns represent respectively the individual’s unique identifier, his/her sex (1=male, 2=female) and the population he or she belongs to¹. The subsequent 10101 columns of each line are a subsample of nucleobases from the individual's genome.\n",
    "\n",
    "\n",
    "You must:\n",
    "* Convert the data from the text file of nucleobases to a real-valued matrix (PCA needs a real-valued matrix). Specifically, convert the genetic data into a binary matrix $X$ such that $X_{i,j} = 0$ if the $i^{th}$ individual has column j’s mode nucleobase² for his or her $j^{th}$ nucleobase, and $X_{i,j} = 1$ otherwise. Note that all mutations appear as a $1$, even if they are different mutations, so if the mode for column j is \"G\", then if individual $i$ has an \"A\",\"T\", or \"C\", then $X_{i,j}$ would be 1.<br>\n",
    "The first 3 columns of the data file provide metadata, and should be ignored when creating the binary matrix X.\n",
    "\n",
    "* Ran PCA on the binary matrix $X$\n",
    "* Examine the first 2 components. \n",
    "* Plot the dataset onto the first two principal components.\n",
    "* Can you interpret the first two principal components? What aspects of the data do the first two principal components capture?\n",
    "* examine the third principal component of X. Create another scatter plot with each individual projected onto the subspace spanned by the first and third principal components\n",
    "*  what information does the third principal component capture?"
   ]
  },
  {
   "cell_type": "markdown",
   "metadata": {},
   "source": [
    "¹see http://www.internationalgenome.org/faq/which-populations-are-part-your-study/ for decodings<br>\n",
    "²By \"mode nucleobase\", we just mean the most frequently occurring nucleobase in that position (across the 995 data points)."
   ]
  },
  {
   "cell_type": "markdown",
   "metadata": {},
   "source": [
    "### Problem 2.1 (Bonus)\n",
    "For this problem we simplified our dataset by capturing all deviations from the mode value with an indicator variable. This loses some information relative to the original data set. How would you create a real-valued matrix Y suitable for PCA analysis such that there is a bijection between our input data (minus the first three columns) and Y?"
   ]
  },
  {
   "cell_type": "code",
   "execution_count": null,
   "metadata": {},
   "outputs": [],
   "source": []
  },
  {
   "cell_type": "code",
   "execution_count": null,
   "metadata": {},
   "outputs": [],
   "source": []
  },
  {
   "cell_type": "code",
   "execution_count": null,
   "metadata": {},
   "outputs": [],
   "source": []
  },
  {
   "cell_type": "code",
   "execution_count": null,
   "metadata": {},
   "outputs": [],
   "source": []
  }
 ],
 "metadata": {
  "kernelspec": {
   "display_name": "Python 3",
   "language": "python",
   "name": "python3"
  },
  "language_info": {
   "codemirror_mode": {
    "name": "ipython",
    "version": 3
   },
   "file_extension": ".py",
   "mimetype": "text/x-python",
   "name": "python",
   "nbconvert_exporter": "python",
   "pygments_lexer": "ipython3",
   "version": "3.6.7"
  }
 },
 "nbformat": 4,
 "nbformat_minor": 2
}
